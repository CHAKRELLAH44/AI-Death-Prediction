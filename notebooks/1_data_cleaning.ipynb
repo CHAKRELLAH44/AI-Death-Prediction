{
 "cells": [
  {
   "cell_type": "code",
   "execution_count": null,
   "id": "a6b47a4f",
   "metadata": {},
   "outputs": [],
   "source": [
    "# 📁 notebooks/1_data_cleaning.ipynb\n",
    "\n",
    "import pandas as pd\n",
    "\n",
    "# Charger les données depuis Excel\n",
    "df = pd.read_excel('../data/BaseMedicale_Talend.xlsx', sheet_name='Patients')\n",
    "\n",
    "# Nettoyage de base\n",
    "df.drop(['cin', 'nom', 'prenom'], axis=1, inplace=True)  # On garde que les variables utiles\n",
    "df['date_admission'] = pd.to_datetime(df['date_admission'])\n",
    "df['date_sortie'] = pd.to_datetime(df['date_sortie'])\n",
    "\n",
    "# Création d'une variable \"duree_sejour\"\n",
    "df['duree_sejour'] = (df['date_sortie'] - df['date_admission']).dt.days\n",
    "\n",
    "# Supprimer les colonnes de type date (pour simplifier l’entraînement)\n",
    "df.drop(['date_admission', 'date_sortie'], axis=1, inplace=True)\n",
    "\n",
    "# Exporter le dataset nettoyé\n",
    "df.to_csv('../data/cleaned_data.csv', index=False)\n",
    "\n",
    "print(\"✅ Données nettoyées et sauvegardées.\")\n",
    "df.head()\n"
   ]
  }
 ],
 "metadata": {
  "kernelspec": {
   "display_name": "venv",
   "language": "python",
   "name": "python3"
  },
  "language_info": {
   "name": "python",
   "version": "3.8.10"
  }
 },
 "nbformat": 4,
 "nbformat_minor": 5
}
