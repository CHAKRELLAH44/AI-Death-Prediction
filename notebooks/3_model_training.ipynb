{
 "cells": [
  {
   "cell_type": "code",
   "execution_count": null,
   "id": "5144a591",
   "metadata": {},
   "outputs": [],
   "source": [
    "# 📁 notebooks/3_model_training.ipynb\n",
    "\n",
    "import pandas as pd\n",
    "from sklearn.ensemble import RandomForestClassifier\n",
    "from sklearn.model_selection import train_test_split\n",
    "import joblib\n",
    "\n",
    "# Charger les features\n",
    "df = pd.read_csv('../data/features.csv')\n",
    "\n",
    "X = df.drop('mortalite', axis=1)\n",
    "y = df['mortalite']\n",
    "\n",
    "# Split en train / test\n",
    "X_train, X_test, y_train, y_test = train_test_split(X, y, test_size=0.2, random_state=42)\n",
    "\n",
    "# Entraînement modèle\n",
    "model = RandomForestClassifier(n_estimators=100, random_state=42)\n",
    "model.fit(X_train, y_train)\n",
    "\n",
    "# Sauvegarder modèle\n",
    "joblib.dump(model, '../data/model/random_forest_model.pkl')\n",
    "\n",
    "print(\"✅ Modèle RandomForest entraîné et sauvegardé.\")\n",
    "print(f\"Test accuracy: {model.score(X_test, y_test):.2f}\")\n"
   ]
  }
 ],
 "metadata": {
  "kernelspec": {
   "display_name": "venv",
   "language": "python",
   "name": "python3"
  },
  "language_info": {
   "name": "python",
   "version": "3.8.10"
  }
 },
 "nbformat": 4,
 "nbformat_minor": 5
}
